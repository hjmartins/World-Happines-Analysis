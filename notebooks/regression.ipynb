{
 "cells": [
  {
   "cell_type": "code",
   "execution_count": 33,
   "id": "e0a5e0ca",
   "metadata": {},
   "outputs": [],
   "source": [
    "import pandas as pd\n",
    "import numpy as np\n",
    "import matplotlib.pyplot as plt\n",
    "import seaborn as sns\n",
    "from sklearn.cluster import KMeans\n",
    "from sklearn.linear_model import LinearRegression\n",
    "from sklearn.preprocessing import StandardScaler\n",
    "from sklearn.metrics import mean_squared_error, r2_score\n",
    "import plotly.express as px"
   ]
  },
  {
   "cell_type": "code",
   "execution_count": 18,
   "id": "04e38cfa",
   "metadata": {},
   "outputs": [],
   "source": [
    "df = pd.read_csv('../data/world_happiness_2015_2023.csv')\n"
   ]
  },
  {
   "cell_type": "code",
   "execution_count": 19,
   "id": "0a28803d",
   "metadata": {},
   "outputs": [],
   "source": [
    "colunas_usadas = [\n",
    "    'economy_(gdp_per_capita)',\n",
    "    'family',\n",
    "    'health_(life_expectancy)',\n",
    "    'freedom',\n",
    "    'trust_(government_corruption)',\n",
    "    'generosity',\n",
    "    'dystopia_residual'\n",
    "]\n",
    "X = df[colunas_usadas]\n",
    "y = df['happiness_score']"
   ]
  },
  {
   "cell_type": "code",
   "execution_count": 20,
   "id": "ad4569c5",
   "metadata": {},
   "outputs": [],
   "source": [
    "scaler = StandardScaler()\n",
    "X_scaled = scaler.fit_transform(X)"
   ]
  },
  {
   "cell_type": "code",
   "execution_count": 21,
   "id": "3187d536",
   "metadata": {},
   "outputs": [
    {
     "data": {
      "text/html": [
       "<style>#sk-container-id-2 {\n",
       "  /* Definition of color scheme common for light and dark mode */\n",
       "  --sklearn-color-text: #000;\n",
       "  --sklearn-color-text-muted: #666;\n",
       "  --sklearn-color-line: gray;\n",
       "  /* Definition of color scheme for unfitted estimators */\n",
       "  --sklearn-color-unfitted-level-0: #fff5e6;\n",
       "  --sklearn-color-unfitted-level-1: #f6e4d2;\n",
       "  --sklearn-color-unfitted-level-2: #ffe0b3;\n",
       "  --sklearn-color-unfitted-level-3: chocolate;\n",
       "  /* Definition of color scheme for fitted estimators */\n",
       "  --sklearn-color-fitted-level-0: #f0f8ff;\n",
       "  --sklearn-color-fitted-level-1: #d4ebff;\n",
       "  --sklearn-color-fitted-level-2: #b3dbfd;\n",
       "  --sklearn-color-fitted-level-3: cornflowerblue;\n",
       "\n",
       "  /* Specific color for light theme */\n",
       "  --sklearn-color-text-on-default-background: var(--sg-text-color, var(--theme-code-foreground, var(--jp-content-font-color1, black)));\n",
       "  --sklearn-color-background: var(--sg-background-color, var(--theme-background, var(--jp-layout-color0, white)));\n",
       "  --sklearn-color-border-box: var(--sg-text-color, var(--theme-code-foreground, var(--jp-content-font-color1, black)));\n",
       "  --sklearn-color-icon: #696969;\n",
       "\n",
       "  @media (prefers-color-scheme: dark) {\n",
       "    /* Redefinition of color scheme for dark theme */\n",
       "    --sklearn-color-text-on-default-background: var(--sg-text-color, var(--theme-code-foreground, var(--jp-content-font-color1, white)));\n",
       "    --sklearn-color-background: var(--sg-background-color, var(--theme-background, var(--jp-layout-color0, #111)));\n",
       "    --sklearn-color-border-box: var(--sg-text-color, var(--theme-code-foreground, var(--jp-content-font-color1, white)));\n",
       "    --sklearn-color-icon: #878787;\n",
       "  }\n",
       "}\n",
       "\n",
       "#sk-container-id-2 {\n",
       "  color: var(--sklearn-color-text);\n",
       "}\n",
       "\n",
       "#sk-container-id-2 pre {\n",
       "  padding: 0;\n",
       "}\n",
       "\n",
       "#sk-container-id-2 input.sk-hidden--visually {\n",
       "  border: 0;\n",
       "  clip: rect(1px 1px 1px 1px);\n",
       "  clip: rect(1px, 1px, 1px, 1px);\n",
       "  height: 1px;\n",
       "  margin: -1px;\n",
       "  overflow: hidden;\n",
       "  padding: 0;\n",
       "  position: absolute;\n",
       "  width: 1px;\n",
       "}\n",
       "\n",
       "#sk-container-id-2 div.sk-dashed-wrapped {\n",
       "  border: 1px dashed var(--sklearn-color-line);\n",
       "  margin: 0 0.4em 0.5em 0.4em;\n",
       "  box-sizing: border-box;\n",
       "  padding-bottom: 0.4em;\n",
       "  background-color: var(--sklearn-color-background);\n",
       "}\n",
       "\n",
       "#sk-container-id-2 div.sk-container {\n",
       "  /* jupyter's `normalize.less` sets `[hidden] { display: none; }`\n",
       "     but bootstrap.min.css set `[hidden] { display: none !important; }`\n",
       "     so we also need the `!important` here to be able to override the\n",
       "     default hidden behavior on the sphinx rendered scikit-learn.org.\n",
       "     See: https://github.com/scikit-learn/scikit-learn/issues/21755 */\n",
       "  display: inline-block !important;\n",
       "  position: relative;\n",
       "}\n",
       "\n",
       "#sk-container-id-2 div.sk-text-repr-fallback {\n",
       "  display: none;\n",
       "}\n",
       "\n",
       "div.sk-parallel-item,\n",
       "div.sk-serial,\n",
       "div.sk-item {\n",
       "  /* draw centered vertical line to link estimators */\n",
       "  background-image: linear-gradient(var(--sklearn-color-text-on-default-background), var(--sklearn-color-text-on-default-background));\n",
       "  background-size: 2px 100%;\n",
       "  background-repeat: no-repeat;\n",
       "  background-position: center center;\n",
       "}\n",
       "\n",
       "/* Parallel-specific style estimator block */\n",
       "\n",
       "#sk-container-id-2 div.sk-parallel-item::after {\n",
       "  content: \"\";\n",
       "  width: 100%;\n",
       "  border-bottom: 2px solid var(--sklearn-color-text-on-default-background);\n",
       "  flex-grow: 1;\n",
       "}\n",
       "\n",
       "#sk-container-id-2 div.sk-parallel {\n",
       "  display: flex;\n",
       "  align-items: stretch;\n",
       "  justify-content: center;\n",
       "  background-color: var(--sklearn-color-background);\n",
       "  position: relative;\n",
       "}\n",
       "\n",
       "#sk-container-id-2 div.sk-parallel-item {\n",
       "  display: flex;\n",
       "  flex-direction: column;\n",
       "}\n",
       "\n",
       "#sk-container-id-2 div.sk-parallel-item:first-child::after {\n",
       "  align-self: flex-end;\n",
       "  width: 50%;\n",
       "}\n",
       "\n",
       "#sk-container-id-2 div.sk-parallel-item:last-child::after {\n",
       "  align-self: flex-start;\n",
       "  width: 50%;\n",
       "}\n",
       "\n",
       "#sk-container-id-2 div.sk-parallel-item:only-child::after {\n",
       "  width: 0;\n",
       "}\n",
       "\n",
       "/* Serial-specific style estimator block */\n",
       "\n",
       "#sk-container-id-2 div.sk-serial {\n",
       "  display: flex;\n",
       "  flex-direction: column;\n",
       "  align-items: center;\n",
       "  background-color: var(--sklearn-color-background);\n",
       "  padding-right: 1em;\n",
       "  padding-left: 1em;\n",
       "}\n",
       "\n",
       "\n",
       "/* Toggleable style: style used for estimator/Pipeline/ColumnTransformer box that is\n",
       "clickable and can be expanded/collapsed.\n",
       "- Pipeline and ColumnTransformer use this feature and define the default style\n",
       "- Estimators will overwrite some part of the style using the `sk-estimator` class\n",
       "*/\n",
       "\n",
       "/* Pipeline and ColumnTransformer style (default) */\n",
       "\n",
       "#sk-container-id-2 div.sk-toggleable {\n",
       "  /* Default theme specific background. It is overwritten whether we have a\n",
       "  specific estimator or a Pipeline/ColumnTransformer */\n",
       "  background-color: var(--sklearn-color-background);\n",
       "}\n",
       "\n",
       "/* Toggleable label */\n",
       "#sk-container-id-2 label.sk-toggleable__label {\n",
       "  cursor: pointer;\n",
       "  display: flex;\n",
       "  width: 100%;\n",
       "  margin-bottom: 0;\n",
       "  padding: 0.5em;\n",
       "  box-sizing: border-box;\n",
       "  text-align: center;\n",
       "  align-items: start;\n",
       "  justify-content: space-between;\n",
       "  gap: 0.5em;\n",
       "}\n",
       "\n",
       "#sk-container-id-2 label.sk-toggleable__label .caption {\n",
       "  font-size: 0.6rem;\n",
       "  font-weight: lighter;\n",
       "  color: var(--sklearn-color-text-muted);\n",
       "}\n",
       "\n",
       "#sk-container-id-2 label.sk-toggleable__label-arrow:before {\n",
       "  /* Arrow on the left of the label */\n",
       "  content: \"▸\";\n",
       "  float: left;\n",
       "  margin-right: 0.25em;\n",
       "  color: var(--sklearn-color-icon);\n",
       "}\n",
       "\n",
       "#sk-container-id-2 label.sk-toggleable__label-arrow:hover:before {\n",
       "  color: var(--sklearn-color-text);\n",
       "}\n",
       "\n",
       "/* Toggleable content - dropdown */\n",
       "\n",
       "#sk-container-id-2 div.sk-toggleable__content {\n",
       "  display: none;\n",
       "  text-align: left;\n",
       "  /* unfitted */\n",
       "  background-color: var(--sklearn-color-unfitted-level-0);\n",
       "}\n",
       "\n",
       "#sk-container-id-2 div.sk-toggleable__content.fitted {\n",
       "  /* fitted */\n",
       "  background-color: var(--sklearn-color-fitted-level-0);\n",
       "}\n",
       "\n",
       "#sk-container-id-2 div.sk-toggleable__content pre {\n",
       "  margin: 0.2em;\n",
       "  border-radius: 0.25em;\n",
       "  color: var(--sklearn-color-text);\n",
       "  /* unfitted */\n",
       "  background-color: var(--sklearn-color-unfitted-level-0);\n",
       "}\n",
       "\n",
       "#sk-container-id-2 div.sk-toggleable__content.fitted pre {\n",
       "  /* unfitted */\n",
       "  background-color: var(--sklearn-color-fitted-level-0);\n",
       "}\n",
       "\n",
       "#sk-container-id-2 input.sk-toggleable__control:checked~div.sk-toggleable__content {\n",
       "  /* Expand drop-down */\n",
       "  display: block;\n",
       "  width: 100%;\n",
       "  overflow: visible;\n",
       "}\n",
       "\n",
       "#sk-container-id-2 input.sk-toggleable__control:checked~label.sk-toggleable__label-arrow:before {\n",
       "  content: \"▾\";\n",
       "}\n",
       "\n",
       "/* Pipeline/ColumnTransformer-specific style */\n",
       "\n",
       "#sk-container-id-2 div.sk-label input.sk-toggleable__control:checked~label.sk-toggleable__label {\n",
       "  color: var(--sklearn-color-text);\n",
       "  background-color: var(--sklearn-color-unfitted-level-2);\n",
       "}\n",
       "\n",
       "#sk-container-id-2 div.sk-label.fitted input.sk-toggleable__control:checked~label.sk-toggleable__label {\n",
       "  background-color: var(--sklearn-color-fitted-level-2);\n",
       "}\n",
       "\n",
       "/* Estimator-specific style */\n",
       "\n",
       "/* Colorize estimator box */\n",
       "#sk-container-id-2 div.sk-estimator input.sk-toggleable__control:checked~label.sk-toggleable__label {\n",
       "  /* unfitted */\n",
       "  background-color: var(--sklearn-color-unfitted-level-2);\n",
       "}\n",
       "\n",
       "#sk-container-id-2 div.sk-estimator.fitted input.sk-toggleable__control:checked~label.sk-toggleable__label {\n",
       "  /* fitted */\n",
       "  background-color: var(--sklearn-color-fitted-level-2);\n",
       "}\n",
       "\n",
       "#sk-container-id-2 div.sk-label label.sk-toggleable__label,\n",
       "#sk-container-id-2 div.sk-label label {\n",
       "  /* The background is the default theme color */\n",
       "  color: var(--sklearn-color-text-on-default-background);\n",
       "}\n",
       "\n",
       "/* On hover, darken the color of the background */\n",
       "#sk-container-id-2 div.sk-label:hover label.sk-toggleable__label {\n",
       "  color: var(--sklearn-color-text);\n",
       "  background-color: var(--sklearn-color-unfitted-level-2);\n",
       "}\n",
       "\n",
       "/* Label box, darken color on hover, fitted */\n",
       "#sk-container-id-2 div.sk-label.fitted:hover label.sk-toggleable__label.fitted {\n",
       "  color: var(--sklearn-color-text);\n",
       "  background-color: var(--sklearn-color-fitted-level-2);\n",
       "}\n",
       "\n",
       "/* Estimator label */\n",
       "\n",
       "#sk-container-id-2 div.sk-label label {\n",
       "  font-family: monospace;\n",
       "  font-weight: bold;\n",
       "  display: inline-block;\n",
       "  line-height: 1.2em;\n",
       "}\n",
       "\n",
       "#sk-container-id-2 div.sk-label-container {\n",
       "  text-align: center;\n",
       "}\n",
       "\n",
       "/* Estimator-specific */\n",
       "#sk-container-id-2 div.sk-estimator {\n",
       "  font-family: monospace;\n",
       "  border: 1px dotted var(--sklearn-color-border-box);\n",
       "  border-radius: 0.25em;\n",
       "  box-sizing: border-box;\n",
       "  margin-bottom: 0.5em;\n",
       "  /* unfitted */\n",
       "  background-color: var(--sklearn-color-unfitted-level-0);\n",
       "}\n",
       "\n",
       "#sk-container-id-2 div.sk-estimator.fitted {\n",
       "  /* fitted */\n",
       "  background-color: var(--sklearn-color-fitted-level-0);\n",
       "}\n",
       "\n",
       "/* on hover */\n",
       "#sk-container-id-2 div.sk-estimator:hover {\n",
       "  /* unfitted */\n",
       "  background-color: var(--sklearn-color-unfitted-level-2);\n",
       "}\n",
       "\n",
       "#sk-container-id-2 div.sk-estimator.fitted:hover {\n",
       "  /* fitted */\n",
       "  background-color: var(--sklearn-color-fitted-level-2);\n",
       "}\n",
       "\n",
       "/* Specification for estimator info (e.g. \"i\" and \"?\") */\n",
       "\n",
       "/* Common style for \"i\" and \"?\" */\n",
       "\n",
       ".sk-estimator-doc-link,\n",
       "a:link.sk-estimator-doc-link,\n",
       "a:visited.sk-estimator-doc-link {\n",
       "  float: right;\n",
       "  font-size: smaller;\n",
       "  line-height: 1em;\n",
       "  font-family: monospace;\n",
       "  background-color: var(--sklearn-color-background);\n",
       "  border-radius: 1em;\n",
       "  height: 1em;\n",
       "  width: 1em;\n",
       "  text-decoration: none !important;\n",
       "  margin-left: 0.5em;\n",
       "  text-align: center;\n",
       "  /* unfitted */\n",
       "  border: var(--sklearn-color-unfitted-level-1) 1pt solid;\n",
       "  color: var(--sklearn-color-unfitted-level-1);\n",
       "}\n",
       "\n",
       ".sk-estimator-doc-link.fitted,\n",
       "a:link.sk-estimator-doc-link.fitted,\n",
       "a:visited.sk-estimator-doc-link.fitted {\n",
       "  /* fitted */\n",
       "  border: var(--sklearn-color-fitted-level-1) 1pt solid;\n",
       "  color: var(--sklearn-color-fitted-level-1);\n",
       "}\n",
       "\n",
       "/* On hover */\n",
       "div.sk-estimator:hover .sk-estimator-doc-link:hover,\n",
       ".sk-estimator-doc-link:hover,\n",
       "div.sk-label-container:hover .sk-estimator-doc-link:hover,\n",
       ".sk-estimator-doc-link:hover {\n",
       "  /* unfitted */\n",
       "  background-color: var(--sklearn-color-unfitted-level-3);\n",
       "  color: var(--sklearn-color-background);\n",
       "  text-decoration: none;\n",
       "}\n",
       "\n",
       "div.sk-estimator.fitted:hover .sk-estimator-doc-link.fitted:hover,\n",
       ".sk-estimator-doc-link.fitted:hover,\n",
       "div.sk-label-container:hover .sk-estimator-doc-link.fitted:hover,\n",
       ".sk-estimator-doc-link.fitted:hover {\n",
       "  /* fitted */\n",
       "  background-color: var(--sklearn-color-fitted-level-3);\n",
       "  color: var(--sklearn-color-background);\n",
       "  text-decoration: none;\n",
       "}\n",
       "\n",
       "/* Span, style for the box shown on hovering the info icon */\n",
       ".sk-estimator-doc-link span {\n",
       "  display: none;\n",
       "  z-index: 9999;\n",
       "  position: relative;\n",
       "  font-weight: normal;\n",
       "  right: .2ex;\n",
       "  padding: .5ex;\n",
       "  margin: .5ex;\n",
       "  width: min-content;\n",
       "  min-width: 20ex;\n",
       "  max-width: 50ex;\n",
       "  color: var(--sklearn-color-text);\n",
       "  box-shadow: 2pt 2pt 4pt #999;\n",
       "  /* unfitted */\n",
       "  background: var(--sklearn-color-unfitted-level-0);\n",
       "  border: .5pt solid var(--sklearn-color-unfitted-level-3);\n",
       "}\n",
       "\n",
       ".sk-estimator-doc-link.fitted span {\n",
       "  /* fitted */\n",
       "  background: var(--sklearn-color-fitted-level-0);\n",
       "  border: var(--sklearn-color-fitted-level-3);\n",
       "}\n",
       "\n",
       ".sk-estimator-doc-link:hover span {\n",
       "  display: block;\n",
       "}\n",
       "\n",
       "/* \"?\"-specific style due to the `<a>` HTML tag */\n",
       "\n",
       "#sk-container-id-2 a.estimator_doc_link {\n",
       "  float: right;\n",
       "  font-size: 1rem;\n",
       "  line-height: 1em;\n",
       "  font-family: monospace;\n",
       "  background-color: var(--sklearn-color-background);\n",
       "  border-radius: 1rem;\n",
       "  height: 1rem;\n",
       "  width: 1rem;\n",
       "  text-decoration: none;\n",
       "  /* unfitted */\n",
       "  color: var(--sklearn-color-unfitted-level-1);\n",
       "  border: var(--sklearn-color-unfitted-level-1) 1pt solid;\n",
       "}\n",
       "\n",
       "#sk-container-id-2 a.estimator_doc_link.fitted {\n",
       "  /* fitted */\n",
       "  border: var(--sklearn-color-fitted-level-1) 1pt solid;\n",
       "  color: var(--sklearn-color-fitted-level-1);\n",
       "}\n",
       "\n",
       "/* On hover */\n",
       "#sk-container-id-2 a.estimator_doc_link:hover {\n",
       "  /* unfitted */\n",
       "  background-color: var(--sklearn-color-unfitted-level-3);\n",
       "  color: var(--sklearn-color-background);\n",
       "  text-decoration: none;\n",
       "}\n",
       "\n",
       "#sk-container-id-2 a.estimator_doc_link.fitted:hover {\n",
       "  /* fitted */\n",
       "  background-color: var(--sklearn-color-fitted-level-3);\n",
       "}\n",
       "\n",
       ".estimator-table summary {\n",
       "    padding: .5rem;\n",
       "    font-family: monospace;\n",
       "    cursor: pointer;\n",
       "}\n",
       "\n",
       ".estimator-table details[open] {\n",
       "    padding-left: 0.1rem;\n",
       "    padding-right: 0.1rem;\n",
       "    padding-bottom: 0.3rem;\n",
       "}\n",
       "\n",
       ".estimator-table .parameters-table {\n",
       "    margin-left: auto !important;\n",
       "    margin-right: auto !important;\n",
       "}\n",
       "\n",
       ".estimator-table .parameters-table tr:nth-child(odd) {\n",
       "    background-color: #fff;\n",
       "}\n",
       "\n",
       ".estimator-table .parameters-table tr:nth-child(even) {\n",
       "    background-color: #f6f6f6;\n",
       "}\n",
       "\n",
       ".estimator-table .parameters-table tr:hover {\n",
       "    background-color: #e0e0e0;\n",
       "}\n",
       "\n",
       ".estimator-table table td {\n",
       "    border: 1px solid rgba(106, 105, 104, 0.232);\n",
       "}\n",
       "\n",
       ".user-set td {\n",
       "    color:rgb(255, 94, 0);\n",
       "    text-align: left;\n",
       "}\n",
       "\n",
       ".user-set td.value pre {\n",
       "    color:rgb(255, 94, 0) !important;\n",
       "    background-color: transparent !important;\n",
       "}\n",
       "\n",
       ".default td {\n",
       "    color: black;\n",
       "    text-align: left;\n",
       "}\n",
       "\n",
       ".user-set td i,\n",
       ".default td i {\n",
       "    color: black;\n",
       "}\n",
       "\n",
       ".copy-paste-icon {\n",
       "    background-image: url(data:image/svg+xml;base64,PHN2ZyB4bWxucz0iaHR0cDovL3d3dy53My5vcmcvMjAwMC9zdmciIHZpZXdCb3g9IjAgMCA0NDggNTEyIj48IS0tIUZvbnQgQXdlc29tZSBGcmVlIDYuNy4yIGJ5IEBmb250YXdlc29tZSAtIGh0dHBzOi8vZm9udGF3ZXNvbWUuY29tIExpY2Vuc2UgLSBodHRwczovL2ZvbnRhd2Vzb21lLmNvbS9saWNlbnNlL2ZyZWUgQ29weXJpZ2h0IDIwMjUgRm9udGljb25zLCBJbmMuLS0+PHBhdGggZD0iTTIwOCAwTDMzMi4xIDBjMTIuNyAwIDI0LjkgNS4xIDMzLjkgMTQuMWw2Ny45IDY3LjljOSA5IDE0LjEgMjEuMiAxNC4xIDMzLjlMNDQ4IDMzNmMwIDI2LjUtMjEuNSA0OC00OCA0OGwtMTkyIDBjLTI2LjUgMC00OC0yMS41LTQ4LTQ4bDAtMjg4YzAtMjYuNSAyMS41LTQ4IDQ4LTQ4ek00OCAxMjhsODAgMCAwIDY0LTY0IDAgMCAyNTYgMTkyIDAgMC0zMiA2NCAwIDAgNDhjMCAyNi41LTIxLjUgNDgtNDggNDhMNDggNTEyYy0yNi41IDAtNDgtMjEuNS00OC00OEwwIDE3NmMwLTI2LjUgMjEuNS00OCA0OC00OHoiLz48L3N2Zz4=);\n",
       "    background-repeat: no-repeat;\n",
       "    background-size: 14px 14px;\n",
       "    background-position: 0;\n",
       "    display: inline-block;\n",
       "    width: 14px;\n",
       "    height: 14px;\n",
       "    cursor: pointer;\n",
       "}\n",
       "</style><body><div id=\"sk-container-id-2\" class=\"sk-top-container\"><div class=\"sk-text-repr-fallback\"><pre>LinearRegression()</pre><b>In a Jupyter environment, please rerun this cell to show the HTML representation or trust the notebook. <br />On GitHub, the HTML representation is unable to render, please try loading this page with nbviewer.org.</b></div><div class=\"sk-container\" hidden><div class=\"sk-item\"><div class=\"sk-estimator fitted sk-toggleable\"><input class=\"sk-toggleable__control sk-hidden--visually\" id=\"sk-estimator-id-2\" type=\"checkbox\" checked><label for=\"sk-estimator-id-2\" class=\"sk-toggleable__label fitted sk-toggleable__label-arrow\"><div><div>LinearRegression</div></div><div><a class=\"sk-estimator-doc-link fitted\" rel=\"noreferrer\" target=\"_blank\" href=\"https://scikit-learn.org/1.7/modules/generated/sklearn.linear_model.LinearRegression.html\">?<span>Documentation for LinearRegression</span></a><span class=\"sk-estimator-doc-link fitted\">i<span>Fitted</span></span></div></label><div class=\"sk-toggleable__content fitted\" data-param-prefix=\"\">\n",
       "        <div class=\"estimator-table\">\n",
       "            <details>\n",
       "                <summary>Parameters</summary>\n",
       "                <table class=\"parameters-table\">\n",
       "                  <tbody>\n",
       "                    \n",
       "        <tr class=\"default\">\n",
       "            <td><i class=\"copy-paste-icon\"\n",
       "                 onclick=\"copyToClipboard('fit_intercept',\n",
       "                          this.parentElement.nextElementSibling)\"\n",
       "            ></i></td>\n",
       "            <td class=\"param\">fit_intercept&nbsp;</td>\n",
       "            <td class=\"value\">True</td>\n",
       "        </tr>\n",
       "    \n",
       "\n",
       "        <tr class=\"default\">\n",
       "            <td><i class=\"copy-paste-icon\"\n",
       "                 onclick=\"copyToClipboard('copy_X',\n",
       "                          this.parentElement.nextElementSibling)\"\n",
       "            ></i></td>\n",
       "            <td class=\"param\">copy_X&nbsp;</td>\n",
       "            <td class=\"value\">True</td>\n",
       "        </tr>\n",
       "    \n",
       "\n",
       "        <tr class=\"default\">\n",
       "            <td><i class=\"copy-paste-icon\"\n",
       "                 onclick=\"copyToClipboard('tol',\n",
       "                          this.parentElement.nextElementSibling)\"\n",
       "            ></i></td>\n",
       "            <td class=\"param\">tol&nbsp;</td>\n",
       "            <td class=\"value\">1e-06</td>\n",
       "        </tr>\n",
       "    \n",
       "\n",
       "        <tr class=\"default\">\n",
       "            <td><i class=\"copy-paste-icon\"\n",
       "                 onclick=\"copyToClipboard('n_jobs',\n",
       "                          this.parentElement.nextElementSibling)\"\n",
       "            ></i></td>\n",
       "            <td class=\"param\">n_jobs&nbsp;</td>\n",
       "            <td class=\"value\">None</td>\n",
       "        </tr>\n",
       "    \n",
       "\n",
       "        <tr class=\"default\">\n",
       "            <td><i class=\"copy-paste-icon\"\n",
       "                 onclick=\"copyToClipboard('positive',\n",
       "                          this.parentElement.nextElementSibling)\"\n",
       "            ></i></td>\n",
       "            <td class=\"param\">positive&nbsp;</td>\n",
       "            <td class=\"value\">False</td>\n",
       "        </tr>\n",
       "    \n",
       "                  </tbody>\n",
       "                </table>\n",
       "            </details>\n",
       "        </div>\n",
       "    </div></div></div></div></div><script>function copyToClipboard(text, element) {\n",
       "    // Get the parameter prefix from the closest toggleable content\n",
       "    const toggleableContent = element.closest('.sk-toggleable__content');\n",
       "    const paramPrefix = toggleableContent ? toggleableContent.dataset.paramPrefix : '';\n",
       "    const fullParamName = paramPrefix ? `${paramPrefix}${text}` : text;\n",
       "\n",
       "    const originalStyle = element.style;\n",
       "    const computedStyle = window.getComputedStyle(element);\n",
       "    const originalWidth = computedStyle.width;\n",
       "    const originalHTML = element.innerHTML.replace('Copied!', '');\n",
       "\n",
       "    navigator.clipboard.writeText(fullParamName)\n",
       "        .then(() => {\n",
       "            element.style.width = originalWidth;\n",
       "            element.style.color = 'green';\n",
       "            element.innerHTML = \"Copied!\";\n",
       "\n",
       "            setTimeout(() => {\n",
       "                element.innerHTML = originalHTML;\n",
       "                element.style = originalStyle;\n",
       "            }, 2000);\n",
       "        })\n",
       "        .catch(err => {\n",
       "            console.error('Failed to copy:', err);\n",
       "            element.style.color = 'red';\n",
       "            element.innerHTML = \"Failed!\";\n",
       "            setTimeout(() => {\n",
       "                element.innerHTML = originalHTML;\n",
       "                element.style = originalStyle;\n",
       "            }, 2000);\n",
       "        });\n",
       "    return false;\n",
       "}\n",
       "\n",
       "document.querySelectorAll('.fa-regular.fa-copy').forEach(function(element) {\n",
       "    const toggleableContent = element.closest('.sk-toggleable__content');\n",
       "    const paramPrefix = toggleableContent ? toggleableContent.dataset.paramPrefix : '';\n",
       "    const paramName = element.parentElement.nextElementSibling.textContent.trim();\n",
       "    const fullParamName = paramPrefix ? `${paramPrefix}${paramName}` : paramName;\n",
       "\n",
       "    element.setAttribute('title', fullParamName);\n",
       "});\n",
       "</script></body>"
      ],
      "text/plain": [
       "LinearRegression()"
      ]
     },
     "execution_count": 21,
     "metadata": {},
     "output_type": "execute_result"
    }
   ],
   "source": [
    "model = LinearRegression()\n",
    "model.fit(X_scaled, y)"
   ]
  },
  {
   "cell_type": "code",
   "execution_count": 22,
   "id": "5f3f8270",
   "metadata": {},
   "outputs": [
    {
     "name": "stdout",
     "output_type": "stream",
     "text": [
      "MSE: 0.0\n",
      "R^2: 1.0\n"
     ]
    }
   ],
   "source": [
    "\n",
    "y_pred = model.predict(X_scaled)\n",
    "mse = mean_squared_error(y,y_pred)\n",
    "r2 = r2_score(y, y_pred)\n",
    "\n",
    "print(\"MSE:\", round(mse,4))\n",
    "print(\"R^2:\", round(r2,2))"
   ]
  },
  {
   "cell_type": "code",
   "execution_count": 23,
   "id": "2bd1016c",
   "metadata": {},
   "outputs": [
    {
     "data": {
      "image/png": "[encoded data removed]",
      "text/plain": [
       "<Figure size 1000x600 with 1 Axes>"
      ]
     },
     "metadata": {},
     "output_type": "display_data"
    }
   ],
   "source": [
    "coef = pd.Series(model.coef_, index=X.columns)\n",
    "coef.sort_values(ascending=False).plot(kind='barh', figsize=(10, 6))\n",
    "plt.title('Coeficente de Regressão Linear')\n",
    "plt.show()"
   ]
  },
  {
   "cell_type": "code",
   "execution_count": 42,
   "id": "7c8d829d",
   "metadata": {},
   "outputs": [],
   "source": [
    "kmeans = KMeans(n_clusters=5, random_state=42, n_init='auto')\n",
    "df['cluster'] = kmeans.fit_predict(X_scaled)"
   ]
  },
  {
   "cell_type": "code",
   "execution_count": 43,
   "id": "d9dd6880",
   "metadata": {},
   "outputs": [
    {
     "name": "stdout",
     "output_type": "stream",
     "text": [
      "                country  cluster\n",
      "1107  Somaliland region        0\n",
      "1106  Somaliland Region        0\n",
      "126              Bhutan        0\n",
      "1257       Turkmenistan        0\n",
      "1038            Rwanda*        0\n",
      "...                 ...      ...\n",
      "121               Benin        4\n",
      "1330          Venezuela        4\n",
      "180        Burkina Faso        4\n",
      "205            Cameroon        4\n",
      "1365           Zimbabwe        4\n",
      "\n",
      "[197 rows x 2 columns]\n"
     ]
    }
   ],
   "source": [
    "latest_year_df = df.sort_values('year').groupby('country').tail(1)\n",
    "clusters_paises = latest_year_df[['country', 'cluster']].sort_values(by='cluster')\n",
    "print(clusters_paises)"
   ]
  },
  {
   "cell_type": "code",
   "execution_count": 44,
   "id": "94187fc5",
   "metadata": {},
   "outputs": [
    {
     "data": {
      "application/vnd.plotly.v1+json": {
       "config": {
        "plotlyServerURL": "https://plot.ly"
       },
       "data": [
        {
         "hovertemplate": "<b>%{hovertext}</b><br><br>PIB per Capita=%{x}<br>Expectativa de Vida=%{y}<br>Pontuação de Felicidade=%{z}<br>cluster=%{marker.color}<extra></extra>",
         "hovertext": [
          "Djibouti",
          "Oman",
          "Somaliland region",
          "Hong Kong",
          "Suriname",
          "Puerto Rico",
          "Somaliland Region",
          "Taiwan",
          "Hong Kong S.A.R., China",
          "Sudan",
          "Hong Kong SAR, China",
          "Trinidad & Tobago",
          "Northern Cyprus",
          "Belize",
          "Angola",
          "Qatar",
          "Bhutan",
          "Somalia",
          "Syria",
          "Trinidad and Tobago",
          "South Sudan",
          "Central African Republic",
          "Macedonia",
          "Azerbaijan",
          "Kuwait",
          "Yemen",
          "North Cyprus",
          "Libya",
          "Haiti",
          "Czech Republic",
          "Swaziland",
          "Burundi",
          "Palestinian Territories",
          "Turkmenistan",
          "Belarus",
          "Maldives",
          "Rwanda",
          "Lesotho",
          "Yemen*",
          "Botswana*",
          "Palestinian Territories*",
          "North Cyprus*",
          "Niger*",
          "Chad*",
          "Congo",
          "Comoros*",
          "Mauritania*",
          "Turkmenistan*",
          "Madagascar*",
          "Luxembourg*",
          "Eswatini, Kingdom of*",
          "Libya*",
          "Liberia*",
          "Lesotho*",
          "Kuwait*",
          "Gambia*",
          "Turkey",
          "Guatemala*",
          "Rwanda*",
          "Belarus*",
          "Azerbaijan*",
          "Argentina",
          "Armenia",
          "Australia",
          "Austria",
          "Bahrain",
          "Bangladesh",
          "Uzbekistan",
          "Romania",
          "Russia",
          "Saudi Arabia",
          "Senegal",
          "Serbia",
          "Sierra Leone",
          "Afghanistan",
          "Thailand",
          "Indonesia",
          "Iran",
          "Iraq",
          "Ireland",
          "Israel",
          "Italy",
          "Ivory Coast",
          "Taiwan Province of China",
          "Guinea",
          "Honduras",
          "Hong Kong S.A.R. of China",
          "Hungary",
          "Iceland",
          "India",
          "Tanzania",
          "Tajikistan",
          "Jamaica",
          "Japan",
          "Jordan",
          "Kazakhstan",
          "Kenya",
          "Switzerland",
          "Turkiye",
          "Gabon",
          "Gambia",
          "Georgia",
          "Germany",
          "Ghana",
          "Greece",
          "Togo",
          "Guatemala",
          "Kosovo",
          "Kyrgyzstan",
          "Laos",
          "Latvia",
          "Lebanon",
          "Liberia",
          "Sweden",
          "Egypt",
          "El Salvador",
          "Estonia",
          "Ethiopia",
          "Finland",
          "France",
          "Tunisia",
          "Lithuania",
          "Luxembourg",
          "Madagascar",
          "Malawi",
          "Malaysia",
          "Mali",
          "Malta",
          "Sri Lanka",
          "United Arab Emirates",
          "Croatia",
          "Cyprus",
          "Czechia",
          "Denmark",
          "Dominican Republic",
          "Uganda",
          "Ecuador",
          "Mauritania",
          "Mauritius",
          "Mexico",
          "Moldova",
          "Mongolia",
          "Montenegro",
          "Morocco",
          "Spain",
          "Chile",
          "China",
          "Colombia",
          "Comoros",
          "Congo (Brazzaville)",
          "Congo (Kinshasa)",
          "Costa Rica",
          "Ukraine",
          "Mozambique",
          "Myanmar",
          "Namibia",
          "Nepal",
          "Netherlands",
          "New Zealand",
          "Nicaragua",
          "South Africa",
          "Uruguay",
          "Bulgaria",
          "Burkina Faso",
          "Cambodia",
          "Cameroon",
          "Canada",
          "Chad",
          "United Kingdom",
          "South Korea",
          "Niger",
          "Nigeria",
          "North Macedonia",
          "Norway",
          "Pakistan",
          "Slovenia",
          "Venezuela",
          "Belgium",
          "Benin",
          "Bolivia",
          "Bosnia and Herzegovina",
          "Botswana",
          "Brazil",
          "United States",
          "Panama",
          "Paraguay",
          "Peru",
          "Philippines",
          "Poland",
          "Portugal",
          "Singapore",
          "Slovakia",
          "Vietnam",
          "Albania",
          "Algeria",
          "Zambia",
          "Zimbabwe"
         ],
         "legendgroup": "",
         "marker": {
          "color": {
           "bdata": "BAAAAAEAAAAAAAAAAQAAAAIAAAACAAAAAAAAAAIAAAABAAAAAwAAAAEAAAACAAAAAgAAAAIAAAADAAAAAgAAAAAAAAAEAAAABAAAAAIAAAAEAAAABAAAAAMAAAACAAAAAgAAAAQAAAACAAAAAgAAAAQAAAACAAAABAAAAAQAAAAEAAAAAAAAAAMAAAACAAAAAAAAAAQAAAADAAAAAwAAAAMAAAACAAAABAAAAAQAAAAEAAAABAAAAAMAAAAAAAAABAAAAAEAAAADAAAAAgAAAAQAAAAEAAAAAgAAAAQAAAADAAAAAgAAAAAAAAADAAAAAQAAAAIAAAACAAAAAQAAAAEAAAACAAAAAAAAAAIAAAACAAAAAgAAAAIAAAAEAAAAAgAAAAQAAAAEAAAAAgAAAAAAAAADAAAAAwAAAAEAAAACAAAAAgAAAAQAAAACAAAABAAAAAIAAAABAAAAAgAAAAEAAAAAAAAAAAAAAAIAAAACAAAAAgAAAAMAAAACAAAAAAAAAAEAAAADAAAAAwAAAAQAAAACAAAAAQAAAAQAAAADAAAABAAAAAIAAAACAAAAAgAAAAAAAAACAAAAAwAAAAQAAAABAAAAAwAAAAIAAAABAAAAAAAAAAEAAAABAAAAAwAAAAIAAAABAAAABAAAAAQAAAACAAAABAAAAAIAAAADAAAAAQAAAAIAAAACAAAAAgAAAAEAAAACAAAABAAAAAIAAAAEAAAAAgAAAAIAAAACAAAAAgAAAAIAAAAEAAAAAgAAAAIAAAACAAAAAgAAAAQAAAAEAAAABAAAAAIAAAAAAAAABAAAAAAAAAADAAAAAgAAAAEAAAABAAAAAgAAAAIAAAACAAAAAgAAAAQAAAAAAAAABAAAAAEAAAAEAAAAAQAAAAIAAAAEAAAABAAAAAIAAAABAAAABAAAAAIAAAAEAAAAAQAAAAQAAAACAAAAAgAAAAMAAAACAAAAAgAAAAIAAAACAAAAAgAAAAIAAAACAAAAAgAAAAEAAAACAAAAAgAAAAIAAAADAAAAAAAAAAQAAAA=",
           "dtype": "i4"
          },
          "coloraxis": "coloraxis",
          "line": {
           "color": "DarkSlateGrey",
           "width": 2
          },
          "opacity": 0.8,
          "size": 10,
          "symbol": "circle"
         },
         "mode": "markers",
         "name": "",
         "scene": "scene",
         "showlegend": false,
         "type": "scatter3d",
         "x": {
          "bdata": "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",
          "dtype": "f8"
         },
         "y": {
          "bdata": "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",
          "dtype": "f8"
         },
         "z": {
          "bdata": "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",
          "dtype": "f8"
         }
        }
       ],
       "layout": {
        "coloraxis": {
         "colorbar": {
          "title": {
           "text": "cluster"
          }
         },
         "colorscale": [
          [
           0,
           "#0d0887"
          ],
          [
           0.1111111111111111,
           "#46039f"
          ],
          [
           0.2222222222222222,
           "#7201a8"
          ],
          [
           0.3333333333333333,
           "#9c179e"
          ],
          [
           0.4444444444444444,
           "#bd3786"
          ],
          [
           0.5555555555555556,
           "#d8576b"
          ],
          [
           0.6666666666666666,
           "#ed7953"
          ],
          [
           0.7777777777777778,
           "#fb9f3a"
          ],
          [
           0.8888888888888888,
           "#fdca26"
          ],
          [
           1,
           "#f0f921"
          ]
         ]
        },
        "legend": {
         "title": {
          "text": "Cluster"
         },
         "tracegroupgap": 0
        },
        "scene": {
         "domain": {
          "x": [
           0,
           1
          ],
          "y": [
           0,
           1
          ]
         },
         "xaxis": {
          "title": {
           "text": "PIB per Capita"
          }
         },
         "yaxis": {
          "title": {
           "text": "Expectativa de Vida"
          }
         },
         "zaxis": {
          "title": {
           "text": "Pontuação de Felicidade"
          }
         }
        },
        "template": {
         "data": {
          "bar": [
           {
            "error_x": {
             "color": "#2a3f5f"
            },
            "error_y": {
             "color": "#2a3f5f"
            },
            "marker": {
             "line": {
              "color": "#E5ECF6",
              "width": 0.5
             },
             "pattern": {
              "fillmode": "overlay",
              "size": 10,
              "solidity": 0.2
             }
            },
            "type": "bar"
           }
          ],
          "barpolar": [
           {
            "marker": {
             "line": {
              "color": "#E5ECF6",
              "width": 0.5
             },
             "pattern": {
              "fillmode": "overlay",
              "size": 10,
              "solidity": 0.2
             }
            },
            "type": "barpolar"
           }
          ],
          "carpet": [
           {
            "aaxis": {
             "endlinecolor": "#2a3f5f",
             "gridcolor": "white",
             "linecolor": "white",
             "minorgridcolor": "white",
             "startlinecolor": "#2a3f5f"
            },
            "baxis": {
             "endlinecolor": "#2a3f5f",
             "gridcolor": "white",
             "linecolor": "white",
             "minorgridcolor": "white",
             "startlinecolor": "#2a3f5f"
            },
            "type": "carpet"
           }
          ],
          "choropleth": [
           {
            "colorbar": {
             "outlinewidth": 0,
             "ticks": ""
            },
            "type": "choropleth"
           }
          ],
          "contour": [
           {
            "colorbar": {
             "outlinewidth": 0,
             "ticks": ""
            },
            "colorscale": [
             [
              0,
              "#0d0887"
             ],
             [
              0.1111111111111111,
              "#46039f"
             ],
             [
              0.2222222222222222,
              "#7201a8"
             ],
             [
              0.3333333333333333,
              "#9c179e"
             ],
             [
              0.4444444444444444,
              "#bd3786"
             ],
             [
              0.5555555555555556,
              "#d8576b"
             ],
             [
              0.6666666666666666,
              "#ed7953"
             ],
             [
              0.7777777777777778,
              "#fb9f3a"
             ],
             [
              0.8888888888888888,
              "#fdca26"
             ],
             [
              1,
              "#f0f921"
             ]
            ],
            "type": "contour"
           }
          ],
          "contourcarpet": [
           {
            "colorbar": {
             "outlinewidth": 0,
             "ticks": ""
            },
            "type": "contourcarpet"
           }
          ],
          "heatmap": [
           {
            "colorbar": {
             "outlinewidth": 0,
             "ticks": ""
            },
            "colorscale": [
             [
              0,
              "#0d0887"
             ],
             [
              0.1111111111111111,
              "#46039f"
             ],
             [
              0.2222222222222222,
              "#7201a8"
             ],
             [
              0.3333333333333333,
              "#9c179e"
             ],
             [
              0.4444444444444444,
              "#bd3786"
             ],
             [
              0.5555555555555556,
              "#d8576b"
             ],
             [
              0.6666666666666666,
              "#ed7953"
             ],
             [
              0.7777777777777778,
              "#fb9f3a"
             ],
             [
              0.8888888888888888,
              "#fdca26"
             ],
             [
              1,
              "#f0f921"
             ]
            ],
            "type": "heatmap"
           }
          ],
          "histogram": [
           {
            "marker": {
             "pattern": {
              "fillmode": "overlay",
              "size": 10,
              "solidity": 0.2
             }
            },
            "type": "histogram"
           }
          ],
          "histogram2d": [
           {
            "colorbar": {
             "outlinewidth": 0,
             "ticks": ""
            },
            "colorscale": [
             [
              0,
              "#0d0887"
             ],
             [
              0.1111111111111111,
              "#46039f"
             ],
             [
              0.2222222222222222,
              "#7201a8"
             ],
             [
              0.3333333333333333,
              "#9c179e"
             ],
             [
              0.4444444444444444,
              "#bd3786"
             ],
             [
              0.5555555555555556,
              "#d8576b"
             ],
             [
              0.6666666666666666,
              "#ed7953"
             ],
             [
              0.7777777777777778,
              "#fb9f3a"
             ],
             [
              0.8888888888888888,
              "#fdca26"
             ],
             [
              1,
              "#f0f921"
             ]
            ],
            "type": "histogram2d"
           }
          ],
          "histogram2dcontour": [
           {
            "colorbar": {
             "outlinewidth": 0,
             "ticks": ""
            },
            "colorscale": [
             [
              0,
              "#0d0887"
             ],
             [
              0.1111111111111111,
              "#46039f"
             ],
             [
              0.2222222222222222,
              "#7201a8"
             ],
             [
              0.3333333333333333,
              "#9c179e"
             ],
             [
              0.4444444444444444,
              "#bd3786"
             ],
             [
              0.5555555555555556,
              "#d8576b"
             ],
             [
              0.6666666666666666,
              "#ed7953"
             ],
             [
              0.7777777777777778,
              "#fb9f3a"
             ],
             [
              0.8888888888888888,
              "#fdca26"
             ],
             [
              1,
              "#f0f921"
             ]
            ],
            "type": "histogram2dcontour"
           }
          ],
          "mesh3d": [
           {
            "colorbar": {
             "outlinewidth": 0,
             "ticks": ""
            },
            "type": "mesh3d"
           }
          ],
          "parcoords": [
           {
            "line": {
             "colorbar": {
              "outlinewidth": 0,
              "ticks": ""
             }
            },
            "type": "parcoords"
           }
          ],
          "pie": [
           {
            "automargin": true,
            "type": "pie"
           }
          ],
          "scatter": [
           {
            "fillpattern": {
             "fillmode": "overlay",
             "size": 10,
             "solidity": 0.2
            },
            "type": "scatter"
           }
          ],
          "scatter3d": [
           {
            "line": {
             "colorbar": {
              "outlinewidth": 0,
              "ticks": ""
             }
            },
            "marker": {
             "colorbar": {
              "outlinewidth": 0,
              "ticks": ""
             }
            },
            "type": "scatter3d"
           }
          ],
          "scattercarpet": [
           {
            "marker": {
             "colorbar": {
              "outlinewidth": 0,
              "ticks": ""
             }
            },
            "type": "scattercarpet"
           }
          ],
          "scattergeo": [
           {
            "marker": {
             "colorbar": {
              "outlinewidth": 0,
              "ticks": ""
             }
            },
            "type": "scattergeo"
           }
          ],
          "scattergl": [
           {
            "marker": {
             "colorbar": {
              "outlinewidth": 0,
              "ticks": ""
             }
            },
            "type": "scattergl"
           }
          ],
          "scattermap": [
           {
            "marker": {
             "colorbar": {
              "outlinewidth": 0,
              "ticks": ""
             }
            },
            "type": "scattermap"
           }
          ],
          "scattermapbox": [
           {
            "marker": {
             "colorbar": {
              "outlinewidth": 0,
              "ticks": ""
             }
            },
            "type": "scattermapbox"
           }
          ],
          "scatterpolar": [
           {
            "marker": {
             "colorbar": {
              "outlinewidth": 0,
              "ticks": ""
             }
            },
            "type": "scatterpolar"
           }
          ],
          "scatterpolargl": [
           {
            "marker": {
             "colorbar": {
              "outlinewidth": 0,
              "ticks": ""
             }
            },
            "type": "scatterpolargl"
           }
          ],
          "scatterternary": [
           {
            "marker": {
             "colorbar": {
              "outlinewidth": 0,
              "ticks": ""
             }
            },
            "type": "scatterternary"
           }
          ],
          "surface": [
           {
            "colorbar": {
             "outlinewidth": 0,
             "ticks": ""
            },
            "colorscale": [
             [
              0,
              "#0d0887"
             ],
             [
              0.1111111111111111,
              "#46039f"
             ],
             [
              0.2222222222222222,
              "#7201a8"
             ],
             [
              0.3333333333333333,
              "#9c179e"
             ],
             [
              0.4444444444444444,
              "#bd3786"
             ],
             [
              0.5555555555555556,
              "#d8576b"
             ],
             [
              0.6666666666666666,
              "#ed7953"
             ],
             [
              0.7777777777777778,
              "#fb9f3a"
             ],
             [
              0.8888888888888888,
              "#fdca26"
             ],
             [
              1,
              "#f0f921"
             ]
            ],
            "type": "surface"
           }
          ],
          "table": [
           {
            "cells": {
             "fill": {
              "color": "#EBF0F8"
             },
             "line": {
              "color": "white"
             }
            },
            "header": {
             "fill": {
              "color": "#C8D4E3"
             },
             "line": {
              "color": "white"
             }
            },
            "type": "table"
           }
          ]
         },
         "layout": {
          "annotationdefaults": {
           "arrowcolor": "#2a3f5f",
           "arrowhead": 0,
           "arrowwidth": 1
          },
          "autotypenumbers": "strict",
          "coloraxis": {
           "colorbar": {
            "outlinewidth": 0,
            "ticks": ""
           }
          },
          "colorscale": {
           "diverging": [
            [
             0,
             "#8e0152"
            ],
            [
             0.1,
             "#c51b7d"
            ],
            [
             0.2,
             "#de77ae"
            ],
            [
             0.3,
             "#f1b6da"
            ],
            [
             0.4,
             "#fde0ef"
            ],
            [
             0.5,
             "#f7f7f7"
            ],
            [
             0.6,
             "#e6f5d0"
            ],
            [
             0.7,
             "#b8e186"
            ],
            [
             0.8,
             "#7fbc41"
            ],
            [
             0.9,
             "#4d9221"
            ],
            [
             1,
             "#276419"
            ]
           ],
           "sequential": [
            [
             0,
             "#0d0887"
            ],
            [
             0.1111111111111111,
             "#46039f"
            ],
            [
             0.2222222222222222,
             "#7201a8"
            ],
            [
             0.3333333333333333,
             "#9c179e"
            ],
            [
             0.4444444444444444,
             "#bd3786"
            ],
            [
             0.5555555555555556,
             "#d8576b"
            ],
            [
             0.6666666666666666,
             "#ed7953"
            ],
            [
             0.7777777777777778,
             "#fb9f3a"
            ],
            [
             0.8888888888888888,
             "#fdca26"
            ],
            [
             1,
             "#f0f921"
            ]
           ],
           "sequentialminus": [
            [
             0,
             "#0d0887"
            ],
            [
             0.1111111111111111,
             "#46039f"
            ],
            [
             0.2222222222222222,
             "#7201a8"
            ],
            [
             0.3333333333333333,
             "#9c179e"
            ],
            [
             0.4444444444444444,
             "#bd3786"
            ],
            [
             0.5555555555555556,
             "#d8576b"
            ],
            [
             0.6666666666666666,
             "#ed7953"
            ],
            [
             0.7777777777777778,
             "#fb9f3a"
            ],
            [
             0.8888888888888888,
             "#fdca26"
            ],
            [
             1,
             "#f0f921"
            ]
           ]
          },
          "colorway": [
           "#636efa",
           "#EF553B",
           "#00cc96",
           "#ab63fa",
           "#FFA15A",
           "#19d3f3",
           "#FF6692",
           "#B6E880",
           "#FF97FF",
           "#FECB52"
          ],
          "font": {
           "color": "#2a3f5f"
          },
          "geo": {
           "bgcolor": "white",
           "lakecolor": "white",
           "landcolor": "#E5ECF6",
           "showlakes": true,
           "showland": true,
           "subunitcolor": "white"
          },
          "hoverlabel": {
           "align": "left"
          },
          "hovermode": "closest",
          "mapbox": {
           "style": "light"
          },
          "paper_bgcolor": "white",
          "plot_bgcolor": "#E5ECF6",
          "polar": {
           "angularaxis": {
            "gridcolor": "white",
            "linecolor": "white",
            "ticks": ""
           },
           "bgcolor": "#E5ECF6",
           "radialaxis": {
            "gridcolor": "white",
            "linecolor": "white",
            "ticks": ""
           }
          },
          "scene": {
           "xaxis": {
            "backgroundcolor": "#E5ECF6",
            "gridcolor": "white",
            "gridwidth": 2,
            "linecolor": "white",
            "showbackground": true,
            "ticks": "",
            "zerolinecolor": "white"
           },
           "yaxis": {
            "backgroundcolor": "#E5ECF6",
            "gridcolor": "white",
            "gridwidth": 2,
            "linecolor": "white",
            "showbackground": true,
            "ticks": "",
            "zerolinecolor": "white"
           },
           "zaxis": {
            "backgroundcolor": "#E5ECF6",
            "gridcolor": "white",
            "gridwidth": 2,
            "linecolor": "white",
            "showbackground": true,
            "ticks": "",
            "zerolinecolor": "white"
           }
          },
          "shapedefaults": {
           "line": {
            "color": "#2a3f5f"
           }
          },
          "ternary": {
           "aaxis": {
            "gridcolor": "white",
            "linecolor": "white",
            "ticks": ""
           },
           "baxis": {
            "gridcolor": "white",
            "linecolor": "white",
            "ticks": ""
           },
           "bgcolor": "#E5ECF6",
           "caxis": {
            "gridcolor": "white",
            "linecolor": "white",
            "ticks": ""
           }
          },
          "title": {
           "x": 0.05
          },
          "xaxis": {
           "automargin": true,
           "gridcolor": "white",
           "linecolor": "white",
           "ticks": "",
           "title": {
            "standoff": 15
           },
           "zerolinecolor": "white",
           "zerolinewidth": 2
          },
          "yaxis": {
           "automargin": true,
           "gridcolor": "white",
           "linecolor": "white",
           "ticks": "",
           "title": {
            "standoff": 15
           },
           "zerolinecolor": "white",
           "zerolinewidth": 2
          }
         }
        },
        "title": {
         "text": "Relação entre PIB, Expectativa de Vida e Pontuação de Felicidade por Cluster"
        }
       }
      }
     },
     "metadata": {},
     "output_type": "display_data"
    }
   ],
   "source": [
    "fig = px.scatter_3d(latest_year_df, x='economy_(gdp_per_capita)', y='health_(life_expectancy)',z='happiness_score',color='cluster',\n",
    "                    hover_name='country', title='Relação entre PIB, Expectativa de Vida e Pontuação de Felicidade por Cluster',\n",
    "                    labels={'economy_(gdp_per_capita)': 'PIB per Capita', 'health_(life_expectancy)': 'Expectativa de Vida',\n",
    "                             'happiness_score': 'Pontuação de Felicidade'})\n",
    "fig.update_traces(marker=dict(size=10, opacity=0.8, line=dict(width=2, color='DarkSlateGrey')))\n",
    "fig.update_layout(legend=dict(title='Cluster'))\n",
    "\n",
    "fig\n"
   ]
  },
  {
   "cell_type": "code",
   "execution_count": 45,
   "id": "9ad1ad5d",
   "metadata": {},
   "outputs": [
    {
     "name": "stdout",
     "output_type": "stream",
     "text": [
      "Cluster 0 Countries: ['Somaliland region', 'Somaliland Region', 'Bhutan', 'Turkmenistan', 'Rwanda', 'Turkmenistan*', 'Rwanda*', 'Bangladesh', 'Indonesia', 'India', 'Tanzania', 'Kenya', 'Laos', 'Ethiopia', 'Ukraine', 'Myanmar', 'Cambodia', 'Zambia']\n",
      "Cluster 1 Countries: ['Oman', 'Hong Kong', 'Hong Kong S.A.R., China', 'Hong Kong SAR, China', 'Luxembourg*', 'Azerbaijan*', 'Australia', 'Austria', 'Ireland', 'Hong Kong S.A.R. of China', 'Iceland', 'Switzerland', 'Germany', 'Sweden', 'Estonia', 'Finland', 'France', 'Luxembourg', 'United Arab Emirates', 'Denmark', 'Netherlands', 'New Zealand', 'Canada', 'United Kingdom', 'Norway', 'Belgium', 'Singapore']\n",
      "Cluster 2 Countries: ['Suriname', 'Puerto Rico', 'Taiwan', 'Trinidad & Tobago', 'Northern Cyprus', 'Belize', 'Qatar', 'Trinidad and Tobago', 'Azerbaijan', 'Kuwait', 'North Cyprus', 'Libya', 'Czech Republic', 'Maldives', 'North Cyprus*', 'Libya*', 'Kuwait*', 'Guatemala*', 'Argentina', 'Armenia', 'Bahrain', 'Uzbekistan', 'Romania', 'Russia', 'Saudi Arabia', 'Serbia', 'Thailand', 'Israel', 'Italy', 'Taiwan Province of China', 'Honduras', 'Hungary', 'Tajikistan', 'Jamaica', 'Japan', 'Kazakhstan', 'Georgia', 'Guatemala', 'Kosovo', 'Kyrgyzstan', 'Latvia', 'El Salvador', 'Lithuania', 'Malaysia', 'Malta', 'Croatia', 'Cyprus', 'Czechia', 'Dominican Republic', 'Ecuador', 'Mauritius', 'Mexico', 'Moldova', 'Mongolia', 'Montenegro', 'Spain', 'Chile', 'China', 'Colombia', 'Costa Rica', 'Nepal', 'Nicaragua', 'South Africa', 'Uruguay', 'Bulgaria', 'South Korea', 'North Macedonia', 'Slovenia', 'Bolivia', 'Bosnia and Herzegovina', 'Brazil', 'United States', 'Panama', 'Paraguay', 'Peru', 'Philippines', 'Poland', 'Portugal', 'Slovakia', 'Vietnam', 'Albania']\n",
      "Cluster 3 Countries: ['Sudan', 'Angola', 'Macedonia', 'Belarus', 'Yemen*', 'Botswana*', 'Palestinian Territories*', 'Mauritania*', 'Eswatini, Kingdom of*', 'Turkey', 'Belarus*', 'Iran', 'Iraq', 'Jordan', 'Turkiye', 'Gabon', 'Greece', 'Lebanon', 'Egypt', 'Tunisia', 'Sri Lanka', 'Namibia', 'Botswana', 'Algeria']\n",
      "Cluster 4 Countries: ['Djibouti', 'Somalia', 'Syria', 'South Sudan', 'Central African Republic', 'Yemen', 'Haiti', 'Swaziland', 'Burundi', 'Palestinian Territories', 'Lesotho', 'Niger*', 'Chad*', 'Congo', 'Comoros*', 'Madagascar*', 'Liberia*', 'Lesotho*', 'Gambia*', 'Senegal', 'Sierra Leone', 'Afghanistan', 'Ivory Coast', 'Guinea', 'Gambia', 'Ghana', 'Togo', 'Liberia', 'Madagascar', 'Malawi', 'Mali', 'Uganda', 'Mauritania', 'Morocco', 'Comoros', 'Congo (Brazzaville)', 'Congo (Kinshasa)', 'Mozambique', 'Burkina Faso', 'Cameroon', 'Chad', 'Niger', 'Nigeria', 'Pakistan', 'Venezuela', 'Benin', 'Zimbabwe']\n"
     ]
    }
   ],
   "source": [
    "cluster_0 = latest_year_df[latest_year_df['cluster'] == 0]\n",
    "cluster_1 = latest_year_df[latest_year_df['cluster'] == 1]\n",
    "cluster_2 = latest_year_df[latest_year_df['cluster'] == 2]\n",
    "cluster_3 = latest_year_df[latest_year_df['cluster'] == 3]\n",
    "cluster_4 = latest_year_df[latest_year_df['cluster'] == 4]\n",
    "print(\"Cluster 0 Countries:\", cluster_0['country'].tolist())\n",
    "print(\"Cluster 1 Countries:\", cluster_1['country'].tolist())    \n",
    "print(\"Cluster 2 Countries:\", cluster_2['country'].tolist())\n",
    "print(\"Cluster 3 Countries:\", cluster_3['country'].tolist())\n",
    "print(\"Cluster 4 Countries:\", cluster_4['country'].tolist())"
   ]
  },
  {
   "cell_type": "code",
   "execution_count": 46,
   "id": "1ec7b2c7",
   "metadata": {},
   "outputs": [
    {
     "data": {
      "image/png": "[encoded data removed]",
      "text/plain": [
       "<Figure size 640x480 with 1 Axes>"
      ]
     },
     "metadata": {},
     "output_type": "display_data"
    }
   ],
   "source": [
    "clusters_paises\n",
    "sns.scatterplot(data=latest_year_df, x='economy_(gdp_per_capita)', y='happiness_score', hue='cluster', style='cluster', palette='deep')\n",
    "plt.title('Relação entre PIB per Capita e Pontuação de Felicidade por Cluster')\n",
    "plt.xlabel('PIB per Capita')    \n",
    "plt.ylabel('Pontuação de Felicidade')\n",
    "plt.legend(title='Cluster')\n",
    "plt.show()"
   ]
  },
  {
   "cell_type": "code",
   "execution_count": 47,
   "id": "b197975f",
   "metadata": {},
   "outputs": [
    {
     "data": {
      "image/png": "[encoded data removed]",
      "text/plain": [
       "<Figure size 640x480 with 1 Axes>"
      ]
     },
     "metadata": {},
     "output_type": "display_data"
    }
   ],
   "source": [
    "sns.scatterplot(data=df, x='economy_(gdp_per_capita)', y='happiness_score', hue='cluster', palette='tab10')\n",
    "plt.title(\"Clusters de Países: PIB vs Felicidade\")\n",
    "plt.xlabel(\"GDP per Capita\")\n",
    "plt.ylabel(\"Happiness Score\")\n",
    "plt.show()"
   ]
  },
  {
   "cell_type": "code",
   "execution_count": 48,
   "id": "76f68815",
   "metadata": {},
   "outputs": [
    {
     "name": "stdout",
     "output_type": "stream",
     "text": [
      "Média de felicidade por cluster:\n",
      "cluster\n",
      "1    7.016573\n",
      "2    6.078422\n",
      "3    4.930611\n",
      "0    4.692879\n",
      "4    4.376611\n",
      "Name: happiness_score, dtype: float64\n"
     ]
    }
   ],
   "source": [
    "cluster_stats = df.groupby('cluster')['happiness_score'].mean().sort_values(ascending=False)\n",
    "print(\"Média de felicidade por cluster:\")\n",
    "print(cluster_stats)"
   ]
  }
 ],
 "metadata": {
  "kernelspec": {
   "display_name": "Python 3",
   "language": "python",
   "name": "python3"
  },
  "language_info": {
   "codemirror_mode": {
    "name": "ipython",
    "version": 3
   },
   "file_extension": ".py",
   "mimetype": "text/x-python",
   "name": "python",
   "nbconvert_exporter": "python",
   "pygments_lexer": "ipython3",
   "version": "3.13.3"
  }
 },
 "nbformat": 4,
 "nbformat_minor": 5
}
